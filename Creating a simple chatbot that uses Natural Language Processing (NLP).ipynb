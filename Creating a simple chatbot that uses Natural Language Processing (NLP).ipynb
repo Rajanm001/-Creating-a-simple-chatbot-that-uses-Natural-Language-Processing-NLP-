{
 "cells": [
  {
   "cell_type": "markdown",
   "metadata": {},
   "source": [
    "Chatbot using Natural Language Processing (NLP)"
   ]
  },
  {
   "cell_type": "markdown",
   "metadata": {},
   "source": [
    "                            install library"
   ]
  },
  {
   "cell_type": "code",
   "execution_count": 1,
   "metadata": {},
   "outputs": [
    {
     "name": "stdout",
     "output_type": "stream",
     "text": [
      "Requirement already satisfied: nltk in c:\\users\\rajan mishra ji\\appdata\\local\\programs\\python\\python312\\lib\\site-packages (3.8.1)\n",
      "Requirement already satisfied: scikit-learn in c:\\users\\rajan mishra ji\\appdata\\local\\programs\\python\\python312\\lib\\site-packages (1.3.2)\n",
      "Requirement already satisfied: pandas in c:\\users\\rajan mishra ji\\appdata\\local\\programs\\python\\python312\\lib\\site-packages (2.1.3)\n",
      "Requirement already satisfied: numpy in c:\\users\\rajan mishra ji\\appdata\\local\\programs\\python\\python312\\lib\\site-packages (1.26.4)\n",
      "Requirement already satisfied: click in c:\\users\\rajan mishra ji\\appdata\\local\\programs\\python\\python312\\lib\\site-packages (from nltk) (8.1.7)\n",
      "Requirement already satisfied: joblib in c:\\users\\rajan mishra ji\\appdata\\local\\programs\\python\\python312\\lib\\site-packages (from nltk) (1.3.2)\n",
      "Requirement already satisfied: regex>=2021.8.3 in c:\\users\\rajan mishra ji\\appdata\\local\\programs\\python\\python312\\lib\\site-packages (from nltk) (2023.10.3)\n",
      "Requirement already satisfied: tqdm in c:\\users\\rajan mishra ji\\appdata\\local\\programs\\python\\python312\\lib\\site-packages (from nltk) (4.66.1)\n",
      "Requirement already satisfied: scipy>=1.5.0 in c:\\users\\rajan mishra ji\\appdata\\local\\programs\\python\\python312\\lib\\site-packages (from scikit-learn) (1.11.4)\n",
      "Requirement already satisfied: threadpoolctl>=2.0.0 in c:\\users\\rajan mishra ji\\appdata\\local\\programs\\python\\python312\\lib\\site-packages (from scikit-learn) (3.2.0)\n",
      "Requirement already satisfied: python-dateutil>=2.8.2 in c:\\users\\rajan mishra ji\\appdata\\local\\programs\\python\\python312\\lib\\site-packages (from pandas) (2.8.2)\n",
      "Requirement already satisfied: pytz>=2020.1 in c:\\users\\rajan mishra ji\\appdata\\local\\programs\\python\\python312\\lib\\site-packages (from pandas) (2023.3.post1)\n",
      "Requirement already satisfied: tzdata>=2022.1 in c:\\users\\rajan mishra ji\\appdata\\local\\programs\\python\\python312\\lib\\site-packages (from pandas) (2023.3)\n",
      "Requirement already satisfied: six>=1.5 in c:\\users\\rajan mishra ji\\appdata\\local\\programs\\python\\python312\\lib\\site-packages (from python-dateutil>=2.8.2->pandas) (1.16.0)\n",
      "Requirement already satisfied: colorama in c:\\users\\rajan mishra ji\\appdata\\local\\programs\\python\\python312\\lib\\site-packages (from click->nltk) (0.4.6)\n"
     ]
    }
   ],
   "source": [
    "!pip install nltk scikit-learn pandas numpy\n"
   ]
  },
  {
   "cell_type": "markdown",
   "metadata": {},
   "source": [
    "                  import libraries and load data"
   ]
  },
  {
   "cell_type": "code",
   "execution_count": 2,
   "metadata": {},
   "outputs": [
    {
     "name": "stderr",
     "output_type": "stream",
     "text": [
      "[nltk_data] Downloading package punkt to C:\\Users\\Rajan Mishra\n",
      "[nltk_data]     Ji\\AppData\\Roaming\\nltk_data...\n",
      "[nltk_data]   Package punkt is already up-to-date!\n",
      "[nltk_data] Downloading package stopwords to C:\\Users\\Rajan Mishra\n",
      "[nltk_data]     Ji\\AppData\\Roaming\\nltk_data...\n",
      "[nltk_data]   Package stopwords is already up-to-date!\n",
      "[nltk_data] Downloading package vader_lexicon to C:\\Users\\Rajan Mishra\n",
      "[nltk_data]     Ji\\AppData\\Roaming\\nltk_data...\n"
     ]
    }
   ],
   "source": [
    "import nltk\n",
    "from nltk.tokenize import word_tokenize\n",
    "from nltk.corpus import stopwords\n",
    "from nltk.stem import PorterStemmer\n",
    "from nltk.sentiment.vader import SentimentIntensityAnalyzer\n",
    "import pandas as pd\n",
    "from sklearn.model_selection import train_test_split\n",
    "from sklearn.feature_extraction.text import CountVectorizer\n",
    "from sklearn.naive_bayes import MultinomialNB\n",
    "from sklearn.metrics import accuracy_score, classification_report\n",
    "\n",
    "# Download NLTK data\n",
    "nltk.download('punkt')\n",
    "nltk.download('stopwords')\n",
    "nltk.download('vader_lexicon')\n",
    "\n",
    "# Example dataset: Simple questions and answers\n",
    "data = {\n",
    "    'questions': [\n",
    "        'What is your name?',\n",
    "        'How are you?',\n",
    "        'What is the weather like today?',\n",
    "        'Tell me a joke.',\n",
    "        'What is Python?',\n",
    "        'How do I use loops in Python?',\n",
    "        'What is the capital of France?',\n",
    "        'Do you like pizza?',\n",
    "        'How can I install a package in Python?'\n",
    "    ],\n",
    "    'answers': [\n",
    "        'I am a chatbot created to assist you.',\n",
    "        'I am just a program, so I don’t have feelings, but I hope you are doing well!',\n",
    "        'The weather today is nice and sunny!',\n",
    "        'Why don’t scientists trust atoms? Because they make up everything!',\n",
    "        'Python is a programming language.',\n",
    "        'You can use loops like for and while in Python to iterate over data.',\n",
    "        'The capital of France is Paris.',\n",
    "        'I don’t eat, but pizza sounds delicious!',\n",
    "        'You can install a package in Python using pip.'\n",
    "    ]\n",
    "}\n",
    "\n",
    "df = pd.DataFrame(data)\n"
   ]
  },
  {
   "cell_type": "markdown",
   "metadata": {},
   "source": [
    "              Preprocess Data (Tokenization, Stemming, and Vectorization)"
   ]
  },
  {
   "cell_type": "code",
   "execution_count": 3,
   "metadata": {},
   "outputs": [],
   "source": [
    "# Initialize tools\n",
    "ps = PorterStemmer()\n",
    "stop_words = set(stopwords.words('english'))\n",
    "vectorizer = CountVectorizer()\n",
    "\n",
    "# Tokenization and Stemming function\n",
    "def preprocess(text):\n",
    "    tokens = word_tokenize(text.lower())\n",
    "    filtered_tokens = [ps.stem(w) for w in tokens if not w in stop_words]\n",
    "    return ' '.join(filtered_tokens)\n",
    "\n",
    "# Apply preprocessing to the questions\n",
    "df['processed_questions'] = df['questions'].apply(preprocess)\n",
    "\n",
    "# Vectorize the questions\n",
    "X = vectorizer.fit_transform(df['processed_questions'])\n",
    "\n",
    "# Encode answers\n",
    "y = df['answers']\n",
    "\n",
    "# Split the data into training and test sets\n",
    "X_train, X_test, y_train, y_test = train_test_split(X, y, test_size=0.2, random_state=42)\n"
   ]
  },
  {
   "cell_type": "markdown",
   "metadata": {},
   "source": [
    "                Train the Model"
   ]
  },
  {
   "cell_type": "code",
   "execution_count": 4,
   "metadata": {},
   "outputs": [
    {
     "name": "stdout",
     "output_type": "stream",
     "text": [
      "Accuracy: 0.0\n",
      "Classification Report:\n",
      "                                                                                precision    recall  f1-score   support\n",
      "\n",
      "                                        I am a chatbot created to assist you.       0.00      0.00      0.00       0.0\n",
      "I am just a program, so I don’t have feelings, but I hope you are doing well!       0.00      0.00      0.00       1.0\n",
      "                                     I don’t eat, but pizza sounds delicious!       0.00      0.00      0.00       1.0\n",
      "                                         The weather today is nice and sunny!       0.00      0.00      0.00       0.0\n",
      "\n",
      "                                                                     accuracy                           0.00       2.0\n",
      "                                                                    macro avg       0.00      0.00      0.00       2.0\n",
      "                                                                 weighted avg       0.00      0.00      0.00       2.0\n",
      "\n"
     ]
    },
    {
     "name": "stderr",
     "output_type": "stream",
     "text": [
      "c:\\Users\\Rajan Mishra Ji\\AppData\\Local\\Programs\\Python\\Python312\\Lib\\site-packages\\sklearn\\metrics\\_classification.py:1471: UndefinedMetricWarning: Precision and F-score are ill-defined and being set to 0.0 in labels with no predicted samples. Use `zero_division` parameter to control this behavior.\n",
      "  _warn_prf(average, modifier, msg_start, len(result))\n",
      "c:\\Users\\Rajan Mishra Ji\\AppData\\Local\\Programs\\Python\\Python312\\Lib\\site-packages\\sklearn\\metrics\\_classification.py:1471: UndefinedMetricWarning: Recall and F-score are ill-defined and being set to 0.0 in labels with no true samples. Use `zero_division` parameter to control this behavior.\n",
      "  _warn_prf(average, modifier, msg_start, len(result))\n",
      "c:\\Users\\Rajan Mishra Ji\\AppData\\Local\\Programs\\Python\\Python312\\Lib\\site-packages\\sklearn\\metrics\\_classification.py:1471: UndefinedMetricWarning: Precision and F-score are ill-defined and being set to 0.0 in labels with no predicted samples. Use `zero_division` parameter to control this behavior.\n",
      "  _warn_prf(average, modifier, msg_start, len(result))\n",
      "c:\\Users\\Rajan Mishra Ji\\AppData\\Local\\Programs\\Python\\Python312\\Lib\\site-packages\\sklearn\\metrics\\_classification.py:1471: UndefinedMetricWarning: Recall and F-score are ill-defined and being set to 0.0 in labels with no true samples. Use `zero_division` parameter to control this behavior.\n",
      "  _warn_prf(average, modifier, msg_start, len(result))\n",
      "c:\\Users\\Rajan Mishra Ji\\AppData\\Local\\Programs\\Python\\Python312\\Lib\\site-packages\\sklearn\\metrics\\_classification.py:1471: UndefinedMetricWarning: Precision and F-score are ill-defined and being set to 0.0 in labels with no predicted samples. Use `zero_division` parameter to control this behavior.\n",
      "  _warn_prf(average, modifier, msg_start, len(result))\n",
      "c:\\Users\\Rajan Mishra Ji\\AppData\\Local\\Programs\\Python\\Python312\\Lib\\site-packages\\sklearn\\metrics\\_classification.py:1471: UndefinedMetricWarning: Recall and F-score are ill-defined and being set to 0.0 in labels with no true samples. Use `zero_division` parameter to control this behavior.\n",
      "  _warn_prf(average, modifier, msg_start, len(result))\n"
     ]
    }
   ],
   "source": [
    "# Train the Naive Bayes model\n",
    "model = MultinomialNB()\n",
    "model.fit(X_train, y_train)\n",
    "\n",
    "# Predict and evaluate the model\n",
    "y_pred = model.predict(X_test)\n",
    "print(\"Accuracy:\", accuracy_score(y_test, y_pred))\n",
    "print(\"Classification Report:\\n\", classification_report(y_test, y_pred))\n"
   ]
  },
  {
   "cell_type": "markdown",
   "metadata": {},
   "source": [
    "            Implement Sentiment Analysis"
   ]
  },
  {
   "cell_type": "code",
   "execution_count": 5,
   "metadata": {},
   "outputs": [
    {
     "name": "stdout",
     "output_type": "stream",
     "text": [
      "Sentiment analysis for 'I am feeling great today!':\n",
      " {'neg': 0.0, 'neu': 0.253, 'pos': 0.747, 'compound': 0.7088}\n"
     ]
    }
   ],
   "source": [
    "# Initialize Sentiment Analyzer\n",
    "sid = SentimentIntensityAnalyzer()\n",
    "\n",
    "def analyze_sentiment(text):\n",
    "    sentiment_scores = sid.polarity_scores(text)\n",
    "    return sentiment_scores\n",
    "\n",
    "# Example sentiment analysis\n",
    "example_text = \"I am feeling great today!\"\n",
    "sentiment = analyze_sentiment(example_text)\n",
    "print(f\"Sentiment analysis for '{example_text}':\\n\", sentiment)\n"
   ]
  },
  {
   "cell_type": "markdown",
   "metadata": {},
   "source": [
    "                   Create the Chatbot Function"
   ]
  },
  {
   "cell_type": "code",
   "execution_count": 10,
   "metadata": {},
   "outputs": [
    {
     "name": "stdout",
     "output_type": "stream",
     "text": [
      "Response: Why don’t scientists trust atoms? Because they make up everything!\n",
      "Sentiment: Positive\n"
     ]
    }
   ],
   "source": [
    "def chatbot_response(user_input):\n",
    "    # Preprocess the user input\n",
    "    processed_input = preprocess(user_input)\n",
    "    vectorized_input = vectorizer.transform([processed_input])\n",
    "\n",
    "    # Predict the response\n",
    "    response = model.predict(vectorized_input)[0]\n",
    "\n",
    "    # Analyze the sentiment of the user input\n",
    "    sentiment = analyze_sentiment(user_input)\n",
    "    sentiment_desc = 'Positive' if sentiment['compound'] >= 0 else 'Negative'\n",
    "\n",
    "    return f\"Response: {response}\\nSentiment: {sentiment_desc}\"\n",
    "\n",
    "# Example interaction\n",
    "user_input = \"Tell me a joke.\"\n",
    "print(chatbot_response(user_input))\n"
   ]
  },
  {
   "cell_type": "markdown",
   "metadata": {},
   "source": [
    "                 Interactive Chatbot Session"
   ]
  },
  {
   "cell_type": "code",
   "execution_count": 11,
   "metadata": {},
   "outputs": [
    {
     "name": "stdout",
     "output_type": "stream",
     "text": [
      "Response: I am a chatbot created to assist you.\n",
      "Sentiment: Positive\n",
      "Response: I am a chatbot created to assist you.\n",
      "Sentiment: Positive\n",
      "Response: I am a chatbot created to assist you.\n",
      "Sentiment: Positive\n",
      "Response: I am a chatbot created to assist you.\n",
      "Sentiment: Positive\n",
      "Response: I am a chatbot created to assist you.\n",
      "Sentiment: Positive\n",
      "Response: I am a chatbot created to assist you.\n",
      "Sentiment: Positive\n",
      "Response: I am a chatbot created to assist you.\n",
      "Sentiment: Positive\n",
      "Response: I am a chatbot created to assist you.\n",
      "Sentiment: Positive\n",
      "Response: I am a chatbot created to assist you.\n",
      "Sentiment: Positive\n"
     ]
    }
   ],
   "source": [
    "while True:\n",
    "    user_input = input(\"You: \")\n",
    "    if user_input.lower() in ['exit', 'quit']:\n",
    "        print(\"Chatbot: Goodbye!\")\n",
    "        break\n",
    "    print(chatbot_response(user_input))\n"
   ]
  }
 ],
 "metadata": {
  "kernelspec": {
   "display_name": "Python 3",
   "language": "python",
   "name": "python3"
  },
  "language_info": {
   "codemirror_mode": {
    "name": "ipython",
    "version": 3
   },
   "file_extension": ".py",
   "mimetype": "text/x-python",
   "name": "python",
   "nbconvert_exporter": "python",
   "pygments_lexer": "ipython3",
   "version": "3.12.4"
  }
 },
 "nbformat": 4,
 "nbformat_minor": 2
}
